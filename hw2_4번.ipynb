{
  "nbformat": 4,
  "nbformat_minor": 0,
  "metadata": {
    "colab": {
      "name": "4번.ipynb",
      "provenance": [],
      "collapsed_sections": [],
      "include_colab_link": true
    },
    "kernelspec": {
      "name": "python3",
      "display_name": "Python 3"
    },
    "language_info": {
      "name": "python"
    }
  },
  "cells": [
    {
      "cell_type": "markdown",
      "metadata": {
        "id": "view-in-github",
        "colab_type": "text"
      },
      "source": [
        "<a href=\"https://colab.research.google.com/github/kimseoyeon6465/Algorithm/blob/main/hw2_4%EB%B2%88.ipynb\" target=\"_parent\"><img src=\"https://colab.research.google.com/assets/colab-badge.svg\" alt=\"Open In Colab\"/></a>"
      ]
    },
    {
      "cell_type": "code",
      "execution_count": null,
      "metadata": {
        "id": "uIadtjcYwA2d"
      },
      "outputs": [],
      "source": [
        "class ListQueue:\n",
        "\tdef __init__(self):\n",
        "\t\tself.__queue = []\n",
        "\n",
        "\tdef enqueueRear(self, x):#rear에 원소 x를 추가\n",
        "\t\tself.__queue.append(x)\n",
        "\n",
        "\tdef dequeueFront(self):#front의 원소 삭제\n",
        "\t\treturn self.__queue.pop(0) # .pop(0): 리스트의 첫 원소를 삭제한 후 원소 리턴\n",
        "\n",
        "\tdef front(self):\n",
        "\t\tif self.isEmpty():\n",
        "\t\t\treturn None\n",
        "\t\telse:\n",
        "\t\t\treturn self.__queue[0]\n",
        "\n",
        "\tdef isEmpty(self) -> bool:\n",
        "\t\treturn (len(self.__queue) == 0);\n",
        " \n",
        "\tdef dequeueAll(self):\n",
        "\t\tself.__queue.clear()\n",
        "\n",
        "\tdef printQueue(self):\n",
        "\t\tprint(\"Queue from front:\", end = ' ')\n",
        "\t\tfor i in range(len(self.__queue)):\n",
        "\t\t\tprint(self.__queue[i], end = ' ')\n",
        "\t\tprint()\n",
        "\t\n",
        "\tdef dequeueRear(self):#rear의 원소 삭제\n",
        "\t\treturn self.__queue.pop(-1)#맨 마지막 rear의 원소 삭제한 후 원소 리턴\n",
        "\t\n",
        "\tdef enqueueFront(self, x):#front에 원소 x 추가\n",
        "\t\tself.__queue.insert(0,x)#0번째 인덱스에 원소 x 추가\n"
      ]
    },
    {
      "cell_type": "markdown",
      "source": [
        "https://stackoverflow.com/ 사이트를 참조하여 euqueueFront 구현"
      ],
      "metadata": {
        "id": "sUVwFIMNngnK"
      }
    },
    {
      "cell_type": "code",
      "source": [
        "q1 = ListQueue()\n",
        "q1.enqueueRear(7);q1.enqueueRear(10);q1.enqueueRear(17);q1.enqueueRear(35);q1.enqueueRear(40);q1.enqueueRear(55);\n",
        "q1.printQueue()\n",
        "q1.enqueueFront(78)\n",
        "q1.printQueue()\n",
        "q1.dequeueFront();\n",
        "q1.printQueue()\n",
        "q1.dequeueRear();\n",
        "q1.printQueue()\n",
        "\n"
      ],
      "metadata": {
        "colab": {
          "base_uri": "https://localhost:8080/"
        },
        "id": "KG6tTWs0j2Al",
        "outputId": "05b70e2c-6573-4ab5-c10d-eb7427ee3a17"
      },
      "execution_count": null,
      "outputs": [
        {
          "output_type": "stream",
          "name": "stdout",
          "text": [
            "Queue from front: 7 10 17 35 40 55 \n",
            "Queue from front: 78 7 10 17 35 40 55 \n",
            "Queue from front: 7 10 17 35 40 55 \n",
            "Queue from front: 7 10 17 35 40 \n"
          ]
        }
      ]
    }
  ]
}